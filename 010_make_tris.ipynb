{
 "cells": [
  {
   "cell_type": "code",
   "execution_count": 1,
   "id": "e5cb1d37",
   "metadata": {},
   "outputs": [],
   "source": [
    "import xmltodict\n",
    "import pathlib\n",
    "import collada\n",
    "import shapely\n",
    "from shapely.geometry import Point\n",
    "import pandas as pd\n",
    "import geopandas as gpd\n",
    "import mio\n",
    "from shapely.geometry import Polygon\n",
    "import numpy as np"
   ]
  },
  {
   "cell_type": "code",
   "execution_count": 2,
   "id": "8ec904ff",
   "metadata": {},
   "outputs": [
    {
     "data": {
      "text/plain": [
       "{'divide': 'warn', 'over': 'warn', 'under': 'ignore', 'invalid': 'warn'}"
      ]
     },
     "execution_count": 2,
     "metadata": {},
     "output_type": "execute_result"
    }
   ],
   "source": [
    "# switch of Collada warnings\n",
    "import numpy as np\n",
    "np.seterr(divide='ignore', invalid='ignore')"
   ]
  },
  {
   "cell_type": "code",
   "execution_count": 3,
   "id": "6103f5b3",
   "metadata": {},
   "outputs": [],
   "source": [
    "def plot_trilist(l, tab_name):\n",
    "    lgeom = []\n",
    "    ldic = []\n",
    "    for v in l:\n",
    "        x0, y0, z0 = v[0]\n",
    "        x1, y1, z1 = v[1]\n",
    "        x2, y2, z2 = v[2]\n",
    "        p = Polygon([(x0,y0), (x1,y1), (x2, y2)])\n",
    "        lgeom.append(p)\n",
    "        dic = {\n",
    "            'x0':x0, 'y0':y0, 'z0':z0,\n",
    "            'x1':x1, 'y1':y1, 'z0':z1,\n",
    "            'x2':x2, 'y2':y2, 'z2':z2,\n",
    "        }\n",
    "        ldic.append(dic)\n",
    "    gdf = gpd.GeoDataFrame(ldic, geometry=lgeom)\n",
    "    mio.write_tab(gdf, tab_name)\n",
    "    gdf.plot()"
   ]
  },
  {
   "cell_type": "code",
   "execution_count": 4,
   "id": "fddf99c6",
   "metadata": {},
   "outputs": [],
   "source": [
    "def dae2list(model_path):\n",
    "    \"\"\"read dae file and return triangle list\"\"\"\n",
    "    model_path = str(model_path)\n",
    "    result = []\n",
    "    try:\n",
    "        mesh = collada.Collada(model_path)\n",
    "    except:\n",
    "        print('can not create collada', model_path)\n",
    "        return None\n",
    "    for geom in mesh.geometries:\n",
    "        for triset in geom.primitives:\n",
    "            for tri_obj in triset:\n",
    "                tri = []\n",
    "                for vertex in tri_obj.vertices:\n",
    "                    vertex = list(vertex)\n",
    "                    tri.append(vertex)\n",
    "                result.append(tri)\n",
    "    return result"
   ]
  },
  {
   "cell_type": "code",
   "execution_count": 5,
   "id": "7e167f12",
   "metadata": {},
   "outputs": [
    {
     "name": "stdout",
     "output_type": "stream",
     "text": [
      "50 row(s) written to mapinfo file.\n"
     ]
    },
    {
     "data": {
      "image/png": "[encoded data removed]",
      "text/plain": [
       "<Figure size 432x288 with 1 Axes>"
      ]
     },
     "metadata": {
      "needs_background": "light"
     },
     "output_type": "display_data"
    }
   ],
   "source": [
    "l = dae2list(r\"C:\\loc\\_SwissBuildings\\KML\\1011-34\\models\\model.dae\",)\n",
    "plot_trilist(l, 'test1.tab')"
   ]
  },
  {
   "cell_type": "code",
   "execution_count": 6,
   "id": "f85cbc2c",
   "metadata": {},
   "outputs": [
    {
     "data": {
      "text/plain": [
       "[[[1.25389, -3.574127, 493.796],\n",
       "  [2.3489861, 0.7440647, 494.506],\n",
       "  [-0.6317002, -2.2827718, 494.851]],\n",
       " [[2.3489861, 0.7440647, 494.506],\n",
       "  [1.7326794, 1.166352, 494.851],\n",
       "  [-0.6317002, -2.2827718, 494.851]],\n",
       " [[3.617283, -0.12398981, 493.796],\n",
       "  [2.3489861, 0.7440647, 494.506],\n",
       "  [1.25389, -3.574127, 493.796]]]"
      ]
     },
     "execution_count": 6,
     "metadata": {},
     "output_type": "execute_result"
    }
   ],
   "source": [
    "l[0:3]"
   ]
  },
  {
   "cell_type": "code",
   "execution_count": 7,
   "id": "f89b25f2",
   "metadata": {},
   "outputs": [],
   "source": [
    "def get_coords_df(kml_path):\n",
    "    \"\"\"read kml and return dataframe with coords and model name\"\"\"\n",
    "    with open(kml_path) as fin:\n",
    "        skml = fin.read()\n",
    "    dic = xmltodict.parse(skml)\n",
    "    pms = dic['kml']['Document']['Placemark']\n",
    "    \n",
    "    dics = []\n",
    "    \n",
    "    # only one model\n",
    "    if 'Model' in pms:\n",
    "        pms = [pms]\n",
    "        \n",
    "    for pm in pms:\n",
    "        model = pm['Model']\n",
    "        lon = pm['Model']['Location']['longitude']\n",
    "        lat = pm['Model']['Location']['latitude']\n",
    "        model = pm['Model']['Link']['href']\n",
    "        dic = {\n",
    "            'lon' : lon, \n",
    "            'lat' : lat,\n",
    "            'model' : model\n",
    "        }\n",
    "        dics.append(dic)\n",
    "    #breakpoint()\n",
    "    df = pd.DataFrame(dics)\n",
    "    \n",
    "    # add swiss coordinates\n",
    "    coords = list(zip(df.lon, df.lat))\n",
    "    coords = [mio.wgs_swiss(*ll) for ll in coords]\n",
    "    coords = list(zip(*coords))\n",
    "    df['x'] = coords[0]\n",
    "    df['y'] = coords[1]\n",
    "    return df"
   ]
  },
  {
   "cell_type": "code",
   "execution_count": 8,
   "id": "c28ea6c4",
   "metadata": {},
   "outputs": [],
   "source": [
    "def make_tris(kml_path):\n",
    "    df = get_coords_df(kml_path)\n",
    "    folder = pathlib.Path(kml_path).parent\n",
    "    ldic = []\n",
    "    for ind, row in df.iterrows():\n",
    "        dx, dy = row.x, row.y\n",
    "        tris = dae2list(folder / row.model)\n",
    "        if tris is None:\n",
    "            continue\n",
    "        n = -1\n",
    "        for tri in tris:\n",
    "            n += 1\n",
    "            x0, y0 ,z0 = tri[0]\n",
    "            x1, y1 ,z1 = tri[1]\n",
    "            x2, y2 ,z2 = tri[2]\n",
    "            x0, y0, z0 = np.round(float(x0) + dx, 2), np.round(float(y0) + dy, 2), np.round(float(z0), 2)\n",
    "            x1, y1, z1 = np.round(float(x1) + dx, 2), np.round(float(y1) + dy, 2), np.round(float(z1), 2)\n",
    "            x2, y2, z2 = np.round(float(x2) + dx, 2), np.round(float(y2) + dy, 2), np.round(float(z2), 2)\n",
    "            dic = {\n",
    "                'model' : row.model,\n",
    "                'tri' : n,\n",
    "                'x0' : x0, 'y0' : y0,'z0' : z0,\n",
    "                'x1' : x1, 'y1' : y1,'z1' : z1,\n",
    "                'x2' : x2, 'y2' : y2,'z2' : z2,\n",
    "            }\n",
    "            ldic.append(dic)\n",
    "    return pd.DataFrame(ldic)"
   ]
  },
  {
   "cell_type": "code",
   "execution_count": 9,
   "id": "d83d7266",
   "metadata": {},
   "outputs": [
    {
     "name": "stdout",
     "output_type": "stream",
     "text": [
      "50 row(s) written to mapinfo file.\n"
     ]
    },
    {
     "data": {
      "text/plain": [
       "<AxesSubplot:>"
      ]
     },
     "execution_count": 9,
     "metadata": {},
     "output_type": "execute_result"
    },
    {
     "data": {
      "image/png": "[encoded data removed]",
      "text/plain": [
       "<Figure size 432x288 with 1 Axes>"
      ]
     },
     "metadata": {
      "needs_background": "light"
     },
     "output_type": "display_data"
    }
   ],
   "source": [
    "df = make_tris(r\"C:\\loc\\_SwissBuildings\\KML\\1011-34\\1011-34.kml\")\n",
    "dfm = df[df.model=='models/model.dae']\n",
    "lgeom = []\n",
    "ldic = []\n",
    "for ind, row in dfm.iterrows():\n",
    "    x0, y0, z0 = row.x0, row.y0, row.z0\n",
    "    x1, y1, z1 = row.x1, row.y1, row.z1\n",
    "    x2, y2, z2 = row.x2, row.y2, row.z2\n",
    "    p = Polygon([(x0,y0), (x1,y1), (x2, y2)])\n",
    "    lgeom.append(p)\n",
    "    dic = {\n",
    "    'x0':x0, 'y0':y0, 'z0':z0,\n",
    "    'x1':x1, 'y1':y1, 'z0':z1,\n",
    "    'x2':x2, 'y2':y2, 'z2':z2,\n",
    "    }\n",
    "    ldic.append(dic)\n",
    "gdf = gpd.GeoDataFrame(ldic, geometry=lgeom)\n",
    "mio.write_tab(gdf, 'test2.tab')\n",
    "gdf.plot()"
   ]
  },
  {
   "cell_type": "code",
   "execution_count": 10,
   "id": "51786619",
   "metadata": {},
   "outputs": [
    {
     "data": {
      "text/html": [
       "<div>\n",
       "<style scoped>\n",
       "    .dataframe tbody tr th:only-of-type {\n",
       "        vertical-align: middle;\n",
       "    }\n",
       "\n",
       "    .dataframe tbody tr th {\n",
       "        vertical-align: top;\n",
       "    }\n",
       "\n",
       "    .dataframe thead th {\n",
       "        text-align: right;\n",
       "    }\n",
       "</style>\n",
       "<table border=\"1\" class=\"dataframe\">\n",
       "  <thead>\n",
       "    <tr style=\"text-align: right;\">\n",
       "      <th></th>\n",
       "      <th>x0</th>\n",
       "      <th>y0</th>\n",
       "      <th>z0</th>\n",
       "      <th>x1</th>\n",
       "      <th>y1</th>\n",
       "      <th>x2</th>\n",
       "      <th>y2</th>\n",
       "      <th>z2</th>\n",
       "      <th>geometry</th>\n",
       "    </tr>\n",
       "  </thead>\n",
       "  <tbody>\n",
       "    <tr>\n",
       "      <th>0.0</th>\n",
       "      <td>679180.08</td>\n",
       "      <td>290032.83</td>\n",
       "      <td>494.51</td>\n",
       "      <td>679181.18</td>\n",
       "      <td>290037.15</td>\n",
       "      <td>679178.20</td>\n",
       "      <td>290034.12</td>\n",
       "      <td>494.85</td>\n",
       "      <td>POLYGON ((679180.080 290032.830, 679181.180 29...</td>\n",
       "    </tr>\n",
       "    <tr>\n",
       "      <th>1.0</th>\n",
       "      <td>679181.18</td>\n",
       "      <td>290037.15</td>\n",
       "      <td>494.85</td>\n",
       "      <td>679180.56</td>\n",
       "      <td>290037.57</td>\n",
       "      <td>679178.20</td>\n",
       "      <td>290034.12</td>\n",
       "      <td>494.85</td>\n",
       "      <td>POLYGON ((679181.180 290037.150, 679180.560 29...</td>\n",
       "    </tr>\n",
       "    <tr>\n",
       "      <th>2.0</th>\n",
       "      <td>679182.45</td>\n",
       "      <td>290036.28</td>\n",
       "      <td>494.51</td>\n",
       "      <td>679181.18</td>\n",
       "      <td>290037.15</td>\n",
       "      <td>679180.08</td>\n",
       "      <td>290032.83</td>\n",
       "      <td>493.80</td>\n",
       "      <td>POLYGON ((679182.450 290036.280, 679181.180 29...</td>\n",
       "    </tr>\n",
       "    <tr>\n",
       "      <th>3.0</th>\n",
       "      <td>679180.21</td>\n",
       "      <td>290032.14</td>\n",
       "      <td>493.80</td>\n",
       "      <td>679180.08</td>\n",
       "      <td>290032.83</td>\n",
       "      <td>679177.92</td>\n",
       "      <td>290033.71</td>\n",
       "      <td>494.85</td>\n",
       "      <td>POLYGON ((679180.210 290032.140, 679180.080 29...</td>\n",
       "    </tr>\n",
       "    <tr>\n",
       "      <th>4.0</th>\n",
       "      <td>679177.92</td>\n",
       "      <td>290033.71</td>\n",
       "      <td>493.80</td>\n",
       "      <td>679180.08</td>\n",
       "      <td>290032.83</td>\n",
       "      <td>679178.20</td>\n",
       "      <td>290034.12</td>\n",
       "      <td>494.85</td>\n",
       "      <td>POLYGON ((679177.920 290033.710, 679180.080 29...</td>\n",
       "    </tr>\n",
       "  </tbody>\n",
       "</table>\n",
       "</div>"
      ],
      "text/plain": [
       "            x0         y0      z0         x1         y1         x2         y2  \\\n",
       "0.0  679180.08  290032.83  494.51  679181.18  290037.15  679178.20  290034.12   \n",
       "1.0  679181.18  290037.15  494.85  679180.56  290037.57  679178.20  290034.12   \n",
       "2.0  679182.45  290036.28  494.51  679181.18  290037.15  679180.08  290032.83   \n",
       "3.0  679180.21  290032.14  493.80  679180.08  290032.83  679177.92  290033.71   \n",
       "4.0  679177.92  290033.71  493.80  679180.08  290032.83  679178.20  290034.12   \n",
       "\n",
       "         z2                                           geometry  \n",
       "0.0  494.85  POLYGON ((679180.080 290032.830, 679181.180 29...  \n",
       "1.0  494.85  POLYGON ((679181.180 290037.150, 679180.560 29...  \n",
       "2.0  493.80  POLYGON ((679182.450 290036.280, 679181.180 29...  \n",
       "3.0  494.85  POLYGON ((679180.210 290032.140, 679180.080 29...  \n",
       "4.0  494.85  POLYGON ((679177.920 290033.710, 679180.080 29...  "
      ]
     },
     "execution_count": 10,
     "metadata": {},
     "output_type": "execute_result"
    }
   ],
   "source": [
    "gdf.head(5)"
   ]
  },
  {
   "cell_type": "code",
   "execution_count": 11,
   "id": "44f4e499",
   "metadata": {},
   "outputs": [
    {
     "data": {
      "text/plain": [
       "3221"
      ]
     },
     "execution_count": 11,
     "metadata": {},
     "output_type": "execute_result"
    }
   ],
   "source": [
    "# get all kml paths\n",
    "kml_paths = []\n",
    "for dir in pathlib.Path('KML').glob(\"*\"):\n",
    "    for kml_path in dir.glob(\"*.kml\"):\n",
    "        kml_paths.append(kml_path)\n",
    "iall = len(kml_paths)\n",
    "iall"
   ]
  },
  {
   "cell_type": "code",
   "execution_count": 12,
   "id": "9d07d739",
   "metadata": {
    "tags": []
   },
   "outputs": [
    {
     "name": "stdout",
     "output_type": "stream",
     "text": [
      "0.0% 0.31% 0.62% can not create collada KML\\1031-41\\models\\model_731.dae\n",
      "0.93% 1.24% 1.55% can not create collada KML\\1047-34\\models\\model_9673.dae\n",
      "1.86% 2.17% 2.48% 2.79% can not create collada KML\\1051-34\\models\\model_1632.dae\n",
      "3.1% 3.42% 3.73% 4.04% 4.35% 4.66% 4.97% 5.28% can not create collada KML\\1067-31\\models\\model_1745.dae\n",
      "5.59% can not create collada KML\\1068-24\\models\\model_382.dae\n",
      "5.9% can not create collada KML\\1068-33\\models\\model_337.dae\n",
      "6.21% 6.52% 6.83% can not create collada KML\\1070-33\\models\\model_447.dae\n",
      "can not create collada KML\\1070-41\\models\\model_1830.dae\n",
      "7.14% can not create collada KML\\1071-12\\models\\model_1238.dae\n",
      "7.45% can not create collada KML\\1071-44\\models\\model_1056.dae\n",
      "7.76% 8.07% 8.38% 8.69% 9.0% 9.31% 9.62% 9.93% 10.25% can not create collada KML\\1085-44\\models\\model_1030.dae\n",
      "10.56% can not create collada KML\\1086-32\\models\\model_1004.dae\n",
      "10.87% 11.18% 11.49% 11.8% 12.11% can not create collada KML\\1089-21\\models\\model_148.dae\n",
      "can not create collada KML\\1089-22\\models\\model_69.dae\n",
      "12.42% can not create collada KML\\1090-13\\models\\model_2107.dae\n",
      "can not create collada KML\\1090-21\\models\\model_2460.dae\n",
      "12.73% can not create collada KML\\1090-42\\models\\model_563.dae\n",
      "can not create collada KML\\1090-42\\models\\model_2221.dae\n",
      "can not create collada KML\\1090-44\\models\\model_356.dae\n",
      "can not create collada KML\\1090-44\\models\\model_2284.dae\n",
      "13.04% can not create collada KML\\1091-14\\models\\model_2358.dae\n",
      "can not create collada KML\\1091-23\\models\\model_4104.dae\n",
      "can not create collada KML\\1091-32\\models\\model_665.dae\n",
      "13.35% can not create collada KML\\1091-41\\models\\model_1893.dae\n",
      "13.66% 13.97% 14.28% 14.59% 14.9% 15.21% 15.52% 15.83% 16.14% can not create collada KML\\1105-44\\models\\model_889.dae\n",
      "16.45% 16.76% 17.08% 17.39% can not create collada KML\\1108-23\\models\\model_1117.dae\n",
      "17.7% can not create collada KML\\1108-34\\models\\model_3391.dae\n",
      "18.01% 18.32% can not create collada KML\\1110-31\\models\\model_3239.dae\n",
      "18.63% can not create collada KML\\1110-44\\models\\model_1682.dae\n",
      "can not create collada KML\\1111-12\\models\\model_1618.dae\n",
      "18.94% 19.25% 19.56% 19.87% 20.18% 20.49% 20.8% 21.11% 21.42% 21.73% 22.04% 22.35% can not create collada KML\\1126-24\\models\\model_168.dae\n",
      "can not create collada KML\\1126-24\\models\\model_174.dae\n",
      "22.66% 22.97% 23.28% 23.6% 23.91% 24.22% 24.53% 24.84% 25.15% 25.46% 25.77% 26.08% 26.39% 26.7% 27.01% 27.32% 27.63% 27.94% 28.25% 28.56% 28.87% 29.18% 29.49% 29.8% 30.11% 30.43% 30.74% can not create collada KML\\1150-21\\models\\model_1300.dae\n",
      "can not create collada KML\\1150-23\\models\\model_5481.dae\n",
      "31.05% can not create collada KML\\1150-34\\models\\model_192.dae\n",
      "31.36% 31.67% 31.98% 32.29% 32.6% 32.91% 33.22% 33.53% 33.84% 34.15% 34.46% 34.77% 35.08% 35.39% 35.7% 36.01% can not create collada KML\\1166-24\\models\\model_1872.dae\n",
      "can not create collada KML\\1166-24\\models\\model_3891.dae\n",
      "can not create collada KML\\1166-24\\models\\model_4280.dae\n",
      "36.32% can not create collada KML\\1166-42\\models\\model_900.dae\n",
      "can not create collada KML\\1166-42\\models\\model_1750.dae\n",
      "can not create collada KML\\1166-42\\models\\model_2129.dae\n",
      "can not create collada KML\\1166-42\\models\\model_3507.dae\n",
      "can not create collada KML\\1166-42\\models\\model_6068.dae\n",
      "can not create collada KML\\1166-42\\models\\model_6348.dae\n",
      "can not create collada KML\\1166-42\\models\\model_6745.dae\n",
      "36.63% can not create collada KML\\1167-24\\models\\model_2.dae\n",
      "can not create collada KML\\1167-31\\models\\model_3828.dae\n",
      "can not create collada KML\\1167-33\\models\\model_536.dae\n",
      "36.95% can not create collada KML\\1167-41\\models\\model_216.dae\n",
      "37.26% 37.57% 37.88% 38.19% 38.5% 38.81% 39.12% 39.43% 39.74% 40.05% 40.36% 40.67% 40.98% 41.29% 41.6% 41.91% 42.22% 42.53% 42.84% 43.15% 43.46% 43.78% 44.09% 44.4% 44.71% 45.02% 45.33% 45.64% 45.95% 46.26% 46.57% 46.88% 47.19% 47.5% 47.81% 48.12% 48.43% 48.74% 49.05% 49.36% 49.67% 49.98% 50.29% 50.61% 50.92% 51.23% 51.54% 51.85% 52.16% 52.47% 52.78% 53.09% 53.4% 53.71% 54.02% 54.33% 54.64% 54.95% can not create collada KML\\1210-24\\models\\model_94.dae\n",
      "55.26% 55.57% 55.88% 56.19% 56.5% 56.81% 57.13% 57.44% 57.75% 58.06% 58.37% 58.68% 58.99% 59.3% 59.61% 59.92% 60.23% 60.54% 60.85% 61.16% 61.47% 61.78% 62.09% 62.4% 62.71% 63.02% 63.33% 63.64% 63.96% 64.27% 64.58% 64.89% 65.2% 65.51% 65.82% 66.13% 66.44% 66.75% 67.06% 67.37% 67.68% 67.99% 68.3% 68.61% 68.92% 69.23% 69.54% 69.85% 70.16% 70.48% 70.79% 71.1% 71.41% 71.72% 72.03% 72.34% 72.65% 72.96% 73.27% 73.58% 73.89% 74.2% 74.51% 74.82% 75.13% 75.44% 75.75% 76.06% 76.37% 76.68% 76.99% 77.31% 77.62% 77.93% 78.24% 78.55% 78.86% 79.17% 79.48% 79.79% 80.1% 80.41% 80.72% 81.03% 81.34% 81.65% 81.96% 82.27% 82.58% 82.89% 83.2% 83.51% 83.82% 84.14% 84.45% 84.76% 85.07% 85.38% 85.69% can not create collada KML\\1289-14\\models\\model_2449.dae\n",
      "can not create collada KML\\1289-14\\models\\model_3038.dae\n",
      "86.0% 86.31% 86.62% 86.93% 87.24% 87.55% 87.86% 88.17% 88.48% 88.79% 89.1% 89.41% 89.72% 90.03% 90.34% 90.66% 90.97% 91.28% 91.59% 91.9% 92.21% 92.52% 92.83% 93.14% 93.45% 93.76% 94.07% 94.38% 94.69% 95.0% 95.31% 95.62% 95.93% 96.24% 96.55% 96.86% 97.17% 97.49% 97.8% 98.11% 98.42% 98.73% 99.04% 99.35% 99.66% 99.97% Wall time: 16h 24min 52s\n"
     ]
    }
   ],
   "source": [
    "%%time\n",
    "# 19h\n",
    "for i, kml_path in enumerate(kml_paths):\n",
    "    mio.show_perc(i, iall, 10)      \n",
    "    rdf = make_tris(kml_path)\n",
    "    stem = pathlib.Path(kml_path).stem\n",
    "    rdf.to_csv(f'tris/{stem}.tri', index=None)"
   ]
  },
  {
   "cell_type": "code",
   "execution_count": 13,
   "id": "23aaa319",
   "metadata": {},
   "outputs": [],
   "source": [
    "# ca. 16.5 h"
   ]
  },
  {
   "cell_type": "code",
   "execution_count": null,
   "id": "b957c5f1",
   "metadata": {},
   "outputs": [],
   "source": []
  }
 ],
 "metadata": {
  "kernelspec": {
   "display_name": "Python 3",
   "language": "python",
   "name": "python3"
  },
  "language_info": {
   "codemirror_mode": {
    "name": "ipython",
    "version": 3
   },
   "file_extension": ".py",
   "mimetype": "text/x-python",
   "name": "python",
   "nbconvert_exporter": "python",
   "pygments_lexer": "ipython3",
   "version": "3.7.10"
  }
 },
 "nbformat": 4,
 "nbformat_minor": 5
}
