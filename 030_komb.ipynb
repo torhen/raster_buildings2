{
 "cells": [
  {
   "cell_type": "code",
   "execution_count": 1,
   "id": "d9c5e1f1",
   "metadata": {},
   "outputs": [],
   "source": [
    "import pandas as pd\n",
    "import geopandas as gpd\n",
    "import mio\n",
    "from shapely.geometry import Polygon\n",
    "from matplotlib import pyplot as plt"
   ]
  },
  {
   "cell_type": "code",
   "execution_count": 2,
   "id": "6540c607",
   "metadata": {},
   "outputs": [
    {
     "name": "stdout",
     "output_type": "stream",
     "text": [
      "259 row(s) written to mapinfo file.\n"
     ]
    }
   ],
   "source": [
    "# make buffered grid of komb\n",
    "gdf = gpd.read_file('tif/_grid25.tab')\n",
    "geoms = []\n",
    "names = []\n",
    "for ind, row in gdf.iterrows():\n",
    "    geom = row.geometry.buffer(200)\n",
    "    name = row.Block\n",
    "    geoms.append(geom)\n",
    "    names.append(name)\n",
    "gdfn = gpd.GeoDataFrame({'komb_name':names}, geometry=geoms)\n",
    "mio.write_tab(gdfn, 'tif/_grid25_buffer.tab')"
   ]
  },
  {
   "cell_type": "code",
   "execution_count": 3,
   "id": "1c3accb3",
   "metadata": {},
   "outputs": [],
   "source": [
    "def get_tif_list(komb_name, komb_grid, tif_grid):\n",
    "    rect = gpd.read_file(komb_grid)\n",
    "    rect = rect[rect.komb_name == komb_name]\n",
    "    bounds = [int(v) for v in rect.total_bounds]\n",
    "    tif_grid = gpd.read_file(tif_grid)\n",
    "    del tif_grid['index']\n",
    "    del rect['index']\n",
    "    res = gpd.sjoin(tif_grid, rect)\n",
    "    return bounds, list(res.name)\n",
    "# get_tif_list('Komb1091', 'tif/_grid25_buffer.tab', 'tif/_grid.tab')"
   ]
  },
  {
   "cell_type": "code",
   "execution_count": 4,
   "id": "e3c1b0dc",
   "metadata": {},
   "outputs": [],
   "source": [
    "def make_komb(komb_name, komb_grid, tif_grid):\n",
    "    bounds, tifs = get_tif_list(komb_name, komb_grid, tif_grid)\n",
    "    x0, y0, x1, y1 = bounds\n",
    "    empty = pd.DataFrame(columns=range(x0, x1), index=range(y1, y0, -1), data=0, dtype=int)\n",
    "    for i, tif_name in enumerate(tifs):\n",
    "        tif = mio.read_raster('tif/' + tif_name + '.tif')[0]\n",
    "        cut = tif.loc[y1:y0,x0:x1]\n",
    "        empty = empty.add(cut,fill_value=0)\n",
    "    empty = empty.sort_index(ascending=False)\n",
    "    mio.write_raster(empty.fillna(0).astype('uint16'), f'komb_alt/{komb_name}_alt.tif')"
   ]
  },
  {
   "cell_type": "code",
   "execution_count": null,
   "id": "0a2e00c4",
   "metadata": {},
   "outputs": [
    {
     "name": "stdout",
     "output_type": "stream",
     "text": [
      "0.0% 0.39% 0.77% 1.16% "
     ]
    }
   ],
   "source": [
    "%%time\n",
    "df = gpd.read_file('tif/_grid25_buffer.tab')\n",
    "iall = len(df)\n",
    "for ind, row in df.iterrows():\n",
    "    mio.show_perc(ind, iall, 1)\n",
    "    make_komb(row.komb_name, 'tif/_grid25_buffer.tab', 'tif/_grid.tab')"
   ]
  },
  {
   "cell_type": "code",
   "execution_count": null,
   "id": "ff22a51f",
   "metadata": {},
   "outputs": [],
   "source": []
  }
 ],
 "metadata": {
  "kernelspec": {
   "display_name": "Python 3",
   "language": "python",
   "name": "python3"
  },
  "language_info": {
   "codemirror_mode": {
    "name": "ipython",
    "version": 3
   },
   "file_extension": ".py",
   "mimetype": "text/x-python",
   "name": "python",
   "nbconvert_exporter": "python",
   "pygments_lexer": "ipython3",
   "version": "3.7.10"
  }
 },
 "nbformat": 4,
 "nbformat_minor": 5
}
