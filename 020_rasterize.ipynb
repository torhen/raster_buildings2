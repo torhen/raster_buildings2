{
 "cells": [
  {
   "cell_type": "code",
   "execution_count": 1,
   "id": "8a135a6a",
   "metadata": {},
   "outputs": [],
   "source": [
    "import numpy as np\n",
    "from matplotlib import pyplot as plt\n",
    "from numba import njit\n",
    "import pandas as pd\n",
    "import mio\n",
    "from shapely.geometry import Polygon, Point, LineString\n",
    "import geopandas as gpd\n",
    "import random\n",
    "import pathlib"
   ]
  },
  {
   "cell_type": "code",
   "execution_count": 2,
   "id": "65558d63",
   "metadata": {},
   "outputs": [],
   "source": [
    "def bary(ar, P0, P1, P2):\n",
    "    \"take empty array and fill with triangles\"\n",
    "    x0, y0, z0 = P0\n",
    "    x1, y1, z1 = P1\n",
    "    x2, y2, z2 = P2\n",
    "    \n",
    "    xmin, xmax = min([x0,x1,x2]), max([x0,x1,x2])\n",
    "    ymin, ymax = min([y0,y1,y2]), max([y0,y1,y2])\n",
    "    \n",
    "    det = (y1 -y2)*(x0 - x2) + (x2 - x1)*(y0 - y2)\n",
    "    if det == 0:\n",
    "        return\n",
    "    for y in range(ymin, ymax + 1):\n",
    "        for x in range(xmin, xmax + 1):\n",
    "    \n",
    "            u0 = (y1 - y2)*(x - x2) + (x2 - x1)*(y  - y2)\n",
    "            l0 = u0 / det\n",
    "            u1 = (y2 - y0)*(x - x2) + (x0 - x2)*(y  - y2)\n",
    "            l1 = u1 / det\n",
    "            l2 = 1 -l0 -l1\n",
    "\n",
    "            if 0 <= l0 <= 1 and 0 <= l1 <= 1 and 0 <= l2 <= 1:\n",
    "                z = l0 * z0 + l1 * z1 + l2 * z2\n",
    "                ar[y, x] = max(ar[y, x], int(z + 0.5))\n"
   ]
  },
  {
   "cell_type": "code",
   "execution_count": 6,
   "id": "243f1eff",
   "metadata": {},
   "outputs": [],
   "source": [
    "def make_raster(tri_path, res_tif):\n",
    "    # read tris\n",
    "    df = pd.read_csv(tri_path)\n",
    "    \n",
    "    # prepare empty array\n",
    "    xmin = min(df.x0.min(), df.x1.min(), df.x2.min())\n",
    "    xmax = max(df.x0.max(), df.x1.max(), df.x2.max())\n",
    "    ymin = min(df.y0.min(), df.y1.min(), df.y2.min())\n",
    "    ymax = max(df.y0.max(), df.y1.max(), df.y2.max())\n",
    "    xa = int(xmin)\n",
    "    ya = int(ymin)\n",
    "    w = int(xmax - xmin) + 2\n",
    "    h = int(ymax - ymin) + 2\n",
    "    xa, ya, w, h\n",
    "    ar = np.zeros((h, w), dtype=int)\n",
    "    \n",
    "    # fill array\n",
    "    for ind, row in df.iterrows():\n",
    "        P0 = int(row.x0 - xa), int(row.y0 - ya), int(row.z0 + 0.5)\n",
    "        P1 = int(row.x1 - xa), int(row.y1 - ya), int(row.z1 + 0.5)\n",
    "        P2 = int(row.x2 - xa), int(row.y2 - ya), int(row.z2 + 0.5)\n",
    "        bary(ar, P0, P1, P2)\n",
    "        \n",
    "    # make geo tiff\n",
    "    ra = pd.DataFrame(ar, columns= range(xa, xa+ w), index=range(ya, ya + h))\n",
    "    ra = ra.sort_index(ascending=False)\n",
    "    mio.write_raster(ra.astype('uint16'), res_tif)"
   ]
  },
  {
   "cell_type": "code",
   "execution_count": 7,
   "id": "a7871c75",
   "metadata": {},
   "outputs": [],
   "source": [
    "tris = pathlib.Path(r\"C:\\loc\\_SwissBuildings\\tris\").glob(\"*.tri\")\n",
    "tris = list(tris)"
   ]
  },
  {
   "cell_type": "code",
   "execution_count": null,
   "id": "e515e5a9",
   "metadata": {},
   "outputs": [
    {
     "name": "stdout",
     "output_type": "stream",
     "text": [
      "0.0% 0.31% 0.62% 0.93% 1.24% 1.55% 1.86% 2.17% 2.48% 2.79% 3.1% 3.42% 3.73% 4.04% 4.35% 4.66% 4.97% 5.28% "
     ]
    }
   ],
   "source": [
    "%%time\n",
    "iall = len(tris)\n",
    "for i, tri in enumerate(tris):\n",
    "    mio.show_perc(i, iall, 10)\n",
    "    res = f'tif/{tri.stem}.tif'\n",
    "    make_raster(tri, res)"
   ]
  },
  {
   "cell_type": "code",
   "execution_count": null,
   "id": "1b19a46f",
   "metadata": {},
   "outputs": [],
   "source": []
  }
 ],
 "metadata": {
  "kernelspec": {
   "display_name": "Python 3",
   "language": "python",
   "name": "python3"
  },
  "language_info": {
   "codemirror_mode": {
    "name": "ipython",
    "version": 3
   },
   "file_extension": ".py",
   "mimetype": "text/x-python",
   "name": "python",
   "nbconvert_exporter": "python",
   "pygments_lexer": "ipython3",
   "version": "3.7.10"
  }
 },
 "nbformat": 4,
 "nbformat_minor": 5
}
