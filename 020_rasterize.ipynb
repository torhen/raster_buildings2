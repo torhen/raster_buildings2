{
 "cells": [
  {
   "cell_type": "code",
   "execution_count": 65,
   "id": "fc7e42a6",
   "metadata": {},
   "outputs": [],
   "source": [
    "reset -f"
   ]
  },
  {
   "cell_type": "code",
   "execution_count": 66,
   "id": "68b5436d",
   "metadata": {},
   "outputs": [],
   "source": [
    "import numpy as np\n",
    "from matplotlib import pyplot as plt\n",
    "from numba import jit\n",
    "import pandas as pd\n",
    "import mio\n",
    "from shapely.geometry import Polygon, Point, LineString\n",
    "import geopandas as gpd\n",
    "import random"
   ]
  },
  {
   "cell_type": "code",
   "execution_count": 67,
   "id": "9905ab5c",
   "metadata": {},
   "outputs": [],
   "source": [
    "# https://stackoverflow.com/questions/2049582/how-to-determine-if-a-point-is-in-a-2d-triangle\n",
    "def bary(px, py, p0x, p0y, p1x, p1y, p2x, p2y):\n",
    "    Area = 0.5 *(-p1y*p2x + p0y*(-p1x + p2x) + p0x*(p1y - p2y) + p1x*p2y)\n",
    "    s = 1/(2*Area)*(p0y*p2x - p0x*p2y + (p2y - p0y)*px + (p0x - p2x)*py)\n",
    "    t = 1/(2*Area)*(p0x*p1y - p0y*p1x + (p0y - p1y)*px + (p1x - p0x)*py)\n",
    "    u = 1 -s -t\n",
    "    if s>=0 and t>=0 and u>=0:\n",
    "        return True\n",
    "    else:\n",
    "        return False"
   ]
  },
  {
   "cell_type": "code",
   "execution_count": 75,
   "id": "6adc8d50",
   "metadata": {},
   "outputs": [
    {
     "data": {
      "text/plain": [
       "<AxesSubplot:>"
      ]
     },
     "execution_count": 75,
     "metadata": {},
     "output_type": "execute_result"
    },
    {
     "data": {
      "image/png": "[encoded data removed]",
      "text/plain": [
       "<Figure size 432x288 with 1 Axes>"
      ]
     },
     "metadata": {
      "needs_background": "light"
     },
     "output_type": "display_data"
    }
   ],
   "source": [
    "x1, y1 = random.random(),  random.random()\n",
    "x2, y2 = random.random(),  random.random()\n",
    "x3, y3 = random.random(),  random.random()\n",
    "\n",
    "xmin, xmax = min([x1, x2, x3]), max([x1, x2, x3])\n",
    "ymin, ymax = min([y1, y2, y3]), max([y1, y2, y3])\n",
    "\n",
    "geoms = []\n",
    "l1 = LineString([(x1, y1), (x2, y2)])\n",
    "l2 = LineString([(x2, y2), (x3, y3)])\n",
    "l3 = LineString([(x3, y3), (x1, y1)])\n",
    "geoms.extend([l1, l2, l3])\n",
    "for y in np.linspace(ymin, ymax, 20):\n",
    "    for x in np.linspace(xmin, xmax, 10):\n",
    "        r = bary(x, y, x1, y1, x2, y2, x3, y3)\n",
    "        p = Point((x, y))\n",
    "        if r:\n",
    "            geoms.append(p)\n",
    "gpd.GeoDataFrame(geometry=geoms).plot()"
   ]
  },
  {
   "cell_type": "code",
   "execution_count": null,
   "id": "15f397f8",
   "metadata": {},
   "outputs": [],
   "source": []
  },
  {
   "cell_type": "code",
   "execution_count": 74,
   "id": "28374850",
   "metadata": {},
   "outputs": [],
   "source": []
  },
  {
   "cell_type": "code",
   "execution_count": null,
   "id": "233cb7c9",
   "metadata": {},
   "outputs": [],
   "source": []
  }
 ],
 "metadata": {
  "kernelspec": {
   "display_name": "Python 3",
   "language": "python",
   "name": "python3"
  },
  "language_info": {
   "codemirror_mode": {
    "name": "ipython",
    "version": 3
   },
   "file_extension": ".py",
   "mimetype": "text/x-python",
   "name": "python",
   "nbconvert_exporter": "python",
   "pygments_lexer": "ipython3",
   "version": "3.7.10"
  }
 },
 "nbformat": 4,
 "nbformat_minor": 5
}
