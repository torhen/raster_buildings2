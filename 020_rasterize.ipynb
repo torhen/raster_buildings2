{
 "cells": [
  {
   "cell_type": "code",
   "execution_count": 12,
   "id": "f3c377e0",
   "metadata": {},
   "outputs": [],
   "source": [
    "import numpy as np\n",
    "from matplotlib import pyplot as plt\n",
    "from numba import njit\n",
    "import pandas as pd\n",
    "import mio\n",
    "from shapely.geometry import Polygon, Point, LineString\n",
    "import geopandas as gpd\n",
    "import random\n",
    "import pathlib\n",
    "import rasterio"
   ]
  },
  {
   "cell_type": "code",
   "execution_count": 2,
   "id": "bc0cc1a4",
   "metadata": {},
   "outputs": [],
   "source": [
    "def bary(ar, P0, P1, P2):\n",
    "    \"take empty array and fill with triangles\"\n",
    "    x0, y0, z0 = P0\n",
    "    x1, y1, z1 = P1\n",
    "    x2, y2, z2 = P2\n",
    "    \n",
    "    xmin, xmax = min([x0,x1,x2]), max([x0,x1,x2])\n",
    "    ymin, ymax = min([y0,y1,y2]), max([y0,y1,y2])\n",
    "    \n",
    "    det = (y1 -y2)*(x0 - x2) + (x2 - x1)*(y0 - y2)\n",
    "    if det == 0:\n",
    "        return\n",
    "    for y in range(ymin, ymax + 1):\n",
    "        for x in range(xmin, xmax + 1):\n",
    "    \n",
    "            u0 = (y1 - y2)*(x - x2) + (x2 - x1)*(y  - y2)\n",
    "            l0 = u0 / det\n",
    "            u1 = (y2 - y0)*(x - x2) + (x0 - x2)*(y  - y2)\n",
    "            l1 = u1 / det\n",
    "            l2 = 1 -l0 -l1\n",
    "\n",
    "            if 0 <= l0 <= 1 and 0 <= l1 <= 1 and 0 <= l2 <= 1:\n",
    "                z = l0 * z0 + l1 * z1 + l2 * z2\n",
    "                ar[y, x] = max(ar[y, x], int(z + 0.5))\n"
   ]
  },
  {
   "cell_type": "code",
   "execution_count": 6,
   "id": "741db608",
   "metadata": {},
   "outputs": [],
   "source": [
    "def make_raster(tri_path, res_tif):\n",
    "    # read tris\n",
    "    df = pd.read_csv(tri_path)\n",
    "    \n",
    "    # prepare empty array\n",
    "    xmin = min(df.x0.min(), df.x1.min(), df.x2.min())\n",
    "    xmax = max(df.x0.max(), df.x1.max(), df.x2.max())\n",
    "    ymin = min(df.y0.min(), df.y1.min(), df.y2.min())\n",
    "    ymax = max(df.y0.max(), df.y1.max(), df.y2.max())\n",
    "    xa = int(xmin)\n",
    "    ya = int(ymin)\n",
    "    w = int(xmax - xmin) + 2\n",
    "    h = int(ymax - ymin) + 2\n",
    "    xa, ya, w, h\n",
    "    ar = np.zeros((h, w), dtype=int)\n",
    "    \n",
    "    # fill array\n",
    "    for ind, row in df.iterrows():\n",
    "        P0 = int(row.x0 - xa), int(row.y0 - ya), int(row.z0 + 0.5)\n",
    "        P1 = int(row.x1 - xa), int(row.y1 - ya), int(row.z1 + 0.5)\n",
    "        P2 = int(row.x2 - xa), int(row.y2 - ya), int(row.z2 + 0.5)\n",
    "        bary(ar, P0, P1, P2)\n",
    "        \n",
    "    # make geo tiff\n",
    "    ra = pd.DataFrame(ar, columns= range(xa, xa+ w), index=range(ya, ya + h))\n",
    "    ra = ra.sort_index(ascending=False)\n",
    "    mio.write_raster(ra.astype('uint16'), res_tif)"
   ]
  },
  {
   "cell_type": "code",
   "execution_count": 7,
   "id": "b5c59576",
   "metadata": {},
   "outputs": [],
   "source": [
    "tris = pathlib.Path(r\"C:\\loc\\_SwissBuildings\\tris\").glob(\"*.tri\")\n",
    "tris = list(tris)"
   ]
  },
  {
   "cell_type": "code",
   "execution_count": 8,
   "id": "3c49d5e6",
   "metadata": {},
   "outputs": [
    {
     "name": "stdout",
     "output_type": "stream",
     "text": [
      "0.0% 0.31% 0.62% 0.93% 1.24% 1.55% 1.86% 2.17% 2.48% 2.79% 3.1% 3.42% 3.73% 4.04% 4.35% 4.66% 4.97% 5.28% 5.59% 5.9% 6.21% 6.52% 6.83% 7.14% 7.45% 7.76% 8.07% 8.38% 8.69% 9.0% 9.31% 9.62% 9.93% 10.25% 10.56% 10.87% 11.18% 11.49% 11.8% 12.11% 12.42% 12.73% 13.04% 13.35% 13.66% 13.97% 14.28% 14.59% 14.9% 15.21% 15.52% 15.83% 16.14% 16.45% 16.76% 17.08% 17.39% 17.7% 18.01% 18.32% 18.63% 18.94% 19.25% 19.56% 19.87% 20.18% 20.49% 20.8% 21.11% 21.42% 21.73% 22.04% 22.35% 22.66% 22.97% 23.28% 23.6% 23.91% 24.22% 24.53% 24.84% 25.15% 25.46% 25.77% 26.08% 26.39% 26.7% 27.01% 27.32% 27.63% 27.94% 28.25% 28.56% 28.87% 29.18% 29.49% 29.8% 30.11% 30.43% 30.74% 31.05% 31.36% 31.67% 31.98% 32.29% 32.6% 32.91% 33.22% 33.53% 33.84% 34.15% 34.46% 34.77% 35.08% 35.39% 35.7% 36.01% 36.32% 36.63% 36.95% 37.26% 37.57% 37.88% 38.19% 38.5% 38.81% 39.12% 39.43% 39.74% 40.05% 40.36% 40.67% 40.98% 41.29% 41.6% 41.91% 42.22% 42.53% 42.84% 43.15% 43.46% 43.78% 44.09% 44.4% 44.71% 45.02% 45.33% 45.64% 45.95% 46.26% 46.57% 46.88% 47.19% 47.5% 47.81% 48.12% 48.43% 48.74% 49.05% 49.36% 49.67% 49.98% 50.29% 50.61% 50.92% 51.23% 51.54% 51.85% 52.16% 52.47% 52.78% 53.09% 53.4% 53.71% 54.02% 54.33% 54.64% 54.95% 55.26% 55.57% 55.88% 56.19% 56.5% 56.81% 57.13% 57.44% 57.75% 58.06% 58.37% 58.68% 58.99% 59.3% 59.61% 59.92% 60.23% 60.54% 60.85% 61.16% 61.47% 61.78% 62.09% 62.4% 62.71% 63.02% 63.33% 63.64% 63.96% 64.27% 64.58% 64.89% 65.2% 65.51% 65.82% 66.13% 66.44% 66.75% 67.06% 67.37% 67.68% 67.99% 68.3% 68.61% 68.92% 69.23% 69.54% 69.85% 70.16% 70.48% 70.79% 71.1% 71.41% 71.72% 72.03% 72.34% 72.65% 72.96% 73.27% 73.58% 73.89% 74.2% 74.51% 74.82% 75.13% 75.44% 75.75% 76.06% 76.37% 76.68% 76.99% 77.31% 77.62% 77.93% 78.24% 78.55% 78.86% 79.17% 79.48% 79.79% 80.1% 80.41% 80.72% 81.03% 81.34% 81.65% 81.96% 82.27% 82.58% 82.89% 83.2% 83.51% 83.82% 84.14% 84.45% 84.76% 85.07% 85.38% 85.69% 86.0% 86.31% 86.62% 86.93% 87.24% 87.55% 87.86% 88.17% 88.48% 88.79% 89.1% 89.41% 89.72% 90.03% 90.34% 90.66% 90.97% 91.28% 91.59% 91.9% 92.21% 92.52% 92.83% 93.14% 93.45% 93.76% 94.07% 94.38% 94.69% 95.0% 95.31% 95.62% 95.93% 96.24% 96.55% 96.86% 97.17% 97.49% 97.8% 98.11% 98.42% 98.73% 99.04% 99.35% 99.66% 99.97% Wall time: 8h 53min\n"
     ]
    }
   ],
   "source": [
    "%%time\n",
    "iall = len(tris)\n",
    "for i, tri in enumerate(tris):\n",
    "    mio.show_perc(i, iall, 10)\n",
    "    res = f'tif/{tri.stem}.tif'\n",
    "    make_raster(tri, res)"
   ]
  },
  {
   "cell_type": "code",
   "execution_count": null,
   "id": "38a893e3",
   "metadata": {},
   "outputs": [],
   "source": [
    "# 9h"
   ]
  },
  {
   "cell_type": "code",
   "execution_count": 22,
   "id": "7bdf24ce",
   "metadata": {},
   "outputs": [
    {
     "name": "stdout",
     "output_type": "stream",
     "text": [
      "0.0% 3.1% 6.21% 9.31% 12.42% 15.52% 18.63% 21.73% 24.84% 27.94% 31.05% 34.15% 37.26% 40.36% 43.46% 46.57% 49.67% 52.78% 55.88% 58.99% 62.09% 65.2% 68.3% 71.41% 74.51% 77.62% 80.72% 83.82% 86.93% 90.03% 93.14% 96.24% 99.35% "
     ]
    }
   ],
   "source": [
    "# make grid\n",
    "tifs = list(pathlib.Path('tif').glob('*.tif'))\n",
    "geoms = []\n",
    "names = []\n",
    "for i, tif in enumerate(tifs):\n",
    "    mio.show_perc(i, len(tifs), 100)\n",
    "    r = rasterio.open(tif)\n",
    "    x0, y0, x1, y1 = r.bounds\n",
    "    p = Polygon([(x0, y0), (x1, y0), (x1, y1), (x0, y1)])\n",
    "    names.append(tif.stem)\n",
    "    geoms.append(p)\n",
    "    r.close()"
   ]
  },
  {
   "cell_type": "code",
   "execution_count": 24,
   "id": "416c3f1f",
   "metadata": {},
   "outputs": [
    {
     "name": "stdout",
     "output_type": "stream",
     "text": [
      "3221 row(s) written to mapinfo file.\n"
     ]
    }
   ],
   "source": [
    "gdf = gpd.GeoDataFrame({'name':names}, geometry= geoms)\n",
    "mio.write_tab(gdf, 'tif/_grid.tab')"
   ]
  },
  {
   "cell_type": "code",
   "execution_count": 25,
   "id": "e294c5cd",
   "metadata": {},
   "outputs": [
    {
     "data": {
      "text/plain": [
       "<AxesSubplot:>"
      ]
     },
     "execution_count": 25,
     "metadata": {},
     "output_type": "execute_result"
    },
    {
     "data": {
      "image/png": "[encoded data removed]",
      "text/plain": [
       "<Figure size 432x288 with 1 Axes>"
      ]
     },
     "metadata": {
      "needs_background": "light"
     },
     "output_type": "display_data"
    }
   ],
   "source": [
    "gdf.plot()"
   ]
  },
  {
   "cell_type": "code",
   "execution_count": null,
   "id": "4d8644ac",
   "metadata": {},
   "outputs": [],
   "source": []
  }
 ],
 "metadata": {
  "kernelspec": {
   "display_name": "Python 3",
   "language": "python",
   "name": "python3"
  },
  "language_info": {
   "codemirror_mode": {
    "name": "ipython",
    "version": 3
   },
   "file_extension": ".py",
   "mimetype": "text/x-python",
   "name": "python",
   "nbconvert_exporter": "python",
   "pygments_lexer": "ipython3",
   "version": "3.7.10"
  }
 },
 "nbformat": 4,
 "nbformat_minor": 5
}
